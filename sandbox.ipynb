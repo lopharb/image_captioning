{
 "cells": [
  {
   "cell_type": "code",
   "execution_count": 1,
   "metadata": {},
   "outputs": [
    {
     "name": "stderr",
     "output_type": "stream",
     "text": [
      "2023-10-03 04:04:42.451917: E tensorflow/compiler/xla/stream_executor/cuda/cuda_dnn.cc:9342] Unable to register cuDNN factory: Attempting to register factory for plugin cuDNN when one has already been registered\n",
      "2023-10-03 04:04:42.451958: E tensorflow/compiler/xla/stream_executor/cuda/cuda_fft.cc:609] Unable to register cuFFT factory: Attempting to register factory for plugin cuFFT when one has already been registered\n",
      "2023-10-03 04:04:42.451982: E tensorflow/compiler/xla/stream_executor/cuda/cuda_blas.cc:1518] Unable to register cuBLAS factory: Attempting to register factory for plugin cuBLAS when one has already been registered\n",
      "2023-10-03 04:04:42.459586: I tensorflow/core/platform/cpu_feature_guard.cc:182] This TensorFlow binary is optimized to use available CPU instructions in performance-critical operations.\n",
      "To enable the following instructions: AVX2 FMA, in other operations, rebuild TensorFlow with the appropriate compiler flags.\n",
      "2023-10-03 04:04:43.585316: W tensorflow/compiler/tf2tensorrt/utils/py_utils.cc:38] TF-TRT Warning: Could not find TensorRT\n"
     ]
    }
   ],
   "source": [
    "import numpy as np # linear algebra\n",
    "import pandas as pd # data processing, CSV file I/O (e.g. pd.read_csv)\n",
    "from PIL import Image\n",
    "import matplotlib.pyplot as plt\n",
    "\n",
    "import torch\n",
    "import torchvision\n",
    "import torch.nn as nn\n",
    "import torchvision.transforms as transforms\n",
    "import cv2\n",
    "import tensorflow as tf\n",
    "# Input data files are available in the read-only \"../input/\" directory\n",
    "# For example, running this (by clicking run or pressing Shift+Enter) will list all files under the input directory\n"
   ]
  },
  {
   "cell_type": "code",
   "execution_count": 2,
   "metadata": {},
   "outputs": [],
   "source": [
    "TRANSFORMS = transforms.Compose([\n",
    "    transforms.ElasticTransform(alpha=125.0), \n",
    "    transforms.RandomRotation(15), \n",
    "    transforms.RandomHorizontalFlip()\n",
    "    #maybe some more\n",
    "])"
   ]
  },
  {
   "cell_type": "code",
   "execution_count": 19,
   "metadata": {},
   "outputs": [
    {
     "name": "stdout",
     "output_type": "stream",
     "text": [
      "(158915, 3)\n"
     ]
    },
    {
     "data": {
      "text/html": [
       "<div>\n",
       "<style scoped>\n",
       "    .dataframe tbody tr th:only-of-type {\n",
       "        vertical-align: middle;\n",
       "    }\n",
       "\n",
       "    .dataframe tbody tr th {\n",
       "        vertical-align: top;\n",
       "    }\n",
       "\n",
       "    .dataframe thead th {\n",
       "        text-align: right;\n",
       "    }\n",
       "</style>\n",
       "<table border=\"1\" class=\"dataframe\">\n",
       "  <thead>\n",
       "    <tr style=\"text-align: right;\">\n",
       "      <th></th>\n",
       "      <th>image_name</th>\n",
       "      <th>comment_number</th>\n",
       "      <th>comment</th>\n",
       "    </tr>\n",
       "  </thead>\n",
       "  <tbody>\n",
       "    <tr>\n",
       "      <th>0</th>\n",
       "      <td>1000092795.jpg</td>\n",
       "      <td>0</td>\n",
       "      <td>Two young guys with shaggy hair look at their...</td>\n",
       "    </tr>\n",
       "    <tr>\n",
       "      <th>1</th>\n",
       "      <td>1000092795.jpg</td>\n",
       "      <td>1</td>\n",
       "      <td>Two young , White males are outside near many...</td>\n",
       "    </tr>\n",
       "    <tr>\n",
       "      <th>2</th>\n",
       "      <td>1000092795.jpg</td>\n",
       "      <td>2</td>\n",
       "      <td>Two men in green shirts are standing in a yard .</td>\n",
       "    </tr>\n",
       "    <tr>\n",
       "      <th>3</th>\n",
       "      <td>1000092795.jpg</td>\n",
       "      <td>3</td>\n",
       "      <td>A man in a blue shirt standing in a garden .</td>\n",
       "    </tr>\n",
       "    <tr>\n",
       "      <th>4</th>\n",
       "      <td>1000092795.jpg</td>\n",
       "      <td>4</td>\n",
       "      <td>Two friends enjoy time spent together .</td>\n",
       "    </tr>\n",
       "  </tbody>\n",
       "</table>\n",
       "</div>"
      ],
      "text/plain": [
       "       image_name  comment_number  \\\n",
       "0  1000092795.jpg               0   \n",
       "1  1000092795.jpg               1   \n",
       "2  1000092795.jpg               2   \n",
       "3  1000092795.jpg               3   \n",
       "4  1000092795.jpg               4   \n",
       "\n",
       "                                             comment  \n",
       "0   Two young guys with shaggy hair look at their...  \n",
       "1   Two young , White males are outside near many...  \n",
       "2   Two men in green shirts are standing in a yard .  \n",
       "3       A man in a blue shirt standing in a garden .  \n",
       "4            Two friends enjoy time spent together .  "
      ]
     },
     "execution_count": 19,
     "metadata": {},
     "output_type": "execute_result"
    }
   ],
   "source": [
    "data = pd.read_csv('./results.csv', sep='|')\n",
    "print(data.shape)\n",
    "data.head()"
   ]
  },
  {
   "cell_type": "code",
   "execution_count": 20,
   "metadata": {},
   "outputs": [],
   "source": [
    "# column names have spaces in the beginning for some reason\n",
    "# (plolly cause the seperator is '|' and not space)\n",
    "data.rename(columns={' comment_number': 'comment_number',\n",
    "            ' comment': 'comment'}, inplace=True)\n",
    "# there was one empty comment\n",
    "data.dropna(inplace=True)"
   ]
  },
  {
   "cell_type": "code",
   "execution_count": 22,
   "metadata": {},
   "outputs": [],
   "source": [
    "import re\n",
    "def remove_non_alpha(s: str):\n",
    "    s = s.lower()\n",
    "    s = re.sub(r'[^\\w\\s]', '', s)\n",
    "    return s"
   ]
  },
  {
   "cell_type": "code",
   "execution_count": 24,
   "metadata": {},
   "outputs": [
    {
     "data": {
      "text/plain": [
       "array([' two young guys with shaggy hair look at their hands while hanging out in the yard ',\n",
       "       ' two young  white males are outside near many bushes ',\n",
       "       ' two men in green shirts are standing in a yard ', ...,\n",
       "       ' a man is leaning off of the side of a blue and white boat as it sits in a body of water ',\n",
       "       ' a man riding a small boat in a harbor  with fog and mountains in the background ',\n",
       "       ' a man on a moored blue and white boat with hills and mist in the background '],\n",
       "      dtype=object)"
      ]
     },
     "execution_count": 24,
     "metadata": {},
     "output_type": "execute_result"
    }
   ],
   "source": [
    "data['comment'] = data['comment'].apply(remove_non_alpha)\n",
    "data['comment'].values"
   ]
  },
  {
   "cell_type": "code",
   "execution_count": 25,
   "metadata": {},
   "outputs": [
    {
     "name": "stdout",
     "output_type": "stream",
     "text": [
      "[('a', 271704), ('in', 83466), ('the', 62978), ('on', 45669), ('and', 44263), ('man', 42598), ('is', 41117), ('of', 38776), ('with', 36207), ('woman', 22211), ('two', 21642), ('are', 20196), ('to', 17607), ('people', 17337), ('at', 16259), ('an', 15883), ('wearing', 15709), ('young', 13218), ('white', 13178), ('shirt', 12981), ('black', 12311), ('while', 11711), ('his', 11495), ('blue', 11310), ('red', 9916), ('girl', 9655), ('sitting', 9620), ('men', 9498), ('boy', 9429), ('standing', 9113), ('dog', 9089), ('playing', 8620), ('street', 7998), ('group', 7852), ('down', 7678), ('front', 7604), ('her', 7414), ('walking', 7339), ('holding', 6985), ('one', 6484), ('water', 5957), ('by', 5771), ('three', 5770), ('women', 5275), ('green', 5221), ('up', 5114), ('child', 5078), ('looking', 5067), ('as', 5028), ('for', 4899), ('little', 4794), ('large', 4753), ('outside', 4702), ('yellow', 4557), ('person', 4479), ('children', 4454), ('brown', 4446), ('through', 4297), ('from', 4041), ('their', 4037), ('hat', 4037), ('other', 3986), ('ball', 3892), ('small', 3779), ('next', 3752), ('into', 3731), ('over', 3684), ('some', 3547), ('dressed', 3462), ('out', 3432), ('another', 3372), ('running', 3369), ('building', 3360), ('jacket', 3348), ('riding', 3313), ('around', 3134), ('orange', 3086), ('near', 3016), ('field', 2981), ('crowd', 2963), ('stands', 2935), ('beach', 2904), ('background', 2882), ('pink', 2862), ('behind', 2832), ('sidewalk', 2812), ('jumping', 2735), ('table', 2682), ('girls', 2679), ('sits', 2612), ('grass', 2597), ('snow', 2534), ('bike', 2533), ('that', 2498), ('looks', 2465), ('top', 2415), ('camera', 2411), ('air', 2378), ('asian', 2373), ('dogs', 2354), ('stand', 2336), ('city', 2325), ('wall', 2324), ('s', 2314), ('player', 2271), ('older', 2269), ('hair', 2221), ('four', 2211), ('has', 2198), ('working', 2175), ('off', 2155), ('soccer', 2152), ('dress', 2130), ('something', 2124), ('it', 2113), ('several', 2105), ('gray', 2086), ('talking', 2072), ('shorts', 2066), ('lady', 2045), ('park', 2041), ('him', 2022), ('guitar', 1994), ('picture', 1993), ('walks', 1988), ('pants', 1986), ('boys', 1976), ('smiling', 1953), ('hand', 1921), ('jeans', 1918), ('plays', 1907), ('play', 1890), ('along', 1870), ('together', 1783), ('carrying', 1783), ('game', 1779), ('holds', 1777), ('road', 1770), ('car', 1767), ('food', 1755), ('bench', 1753), ('them', 1746), ('walk', 1709), ('side', 1698), ('baby', 1667), ('face', 1649), ('there', 1642), ('glasses', 1616), ('stage', 1610), ('head', 1603), ('blond', 1593), ('old', 1588), ('sit', 1584), ('bicycle', 1557), ('hands', 1556), ('back', 1550), ('taking', 1525), ('doing', 1522), ('tree', 1513), ('pool', 1509), ('watching', 1496), ('guy', 1474), ('rock', 1474), ('each', 1473), ('male', 1473), ('couple', 1469), ('baseball', 1455), ('area', 1444), ('who', 1437), ('ground', 1431), ('dirt', 1409), ('he', 1409), ('female', 1397), ('dark', 1390), ('being', 1373), ('boat', 1358), ('race', 1354), ('performing', 1342), ('day', 1341), ('jumps', 1338), ('striped', 1338), ('mouth', 1332), ('look', 1328), ('tshirt', 1327), ('construction', 1323), ('suit', 1317), ('long', 1313), ('coat', 1311), ('room', 1301), ('purple', 1301), ('across', 1297), ('many', 1290), ('sunglasses', 1269), ('eating', 1240), ('football', 1240), ('under', 1227), ('sign', 1217), ('runs', 1207), ('band', 1197), ('kids', 1193), ('horse', 1191), ('using', 1160), ('uniform', 1158), ('sand', 1156), ('microphone', 1146), ('helmet', 1144), ('reading', 1143), ('its', 1142), ('tennis', 1136), ('or', 1124), ('watch', 1121), ('players', 1114), ('be', 1107), ('workers', 1104), ('store', 1093), ('toy', 1084), ('watches', 1081), ('floor', 1076), ('wooden', 1066), ('rides', 1062), ('all', 1061), ('against', 1053), ('mountain', 1050), ('this', 1049), ('train', 1046), ('ocean', 1045), ('during', 1042), ('basketball', 1042), ('window', 1037), ('cap', 1037), ('about', 1034), ('chair', 1028), ('work', 1028), ('elderly', 1016), ('dancing', 1013), ('busy', 1007), ('clothing', 1002), ('bag', 1000), ('team', 994), ('waiting', 993), ('climbing', 983), ('getting', 979), ('middle', 977), ('having', 969), ('trees', 968), ('swimming', 964), ('outdoor', 962), ('past', 959), ('they', 958), ('restaurant', 948), ('colorful', 946), ('shirts', 942), ('making', 940), ('posing', 931), ('inside', 926), ('covered', 895), ('singing', 891), ('trying', 888), ('skateboard', 887), ('fence', 886), ('tan', 875), ('market', 863), ('five', 858), ('line', 854), ('she', 852), ('light', 848), ('ice', 842), ('very', 842), ('brick', 838), ('big', 837), ('hats', 836), ('ride', 820), ('towards', 818), ('someone', 814), ('sweater', 814), ('beside', 807), ('high', 796), ('lake', 796), ('motorcycle', 795), ('hill', 787), ('surrounded', 785), ('bright', 783), ('truck', 780), ('cellphone', 779), ('grassy', 773), ('kitchen', 772), ('laying', 771), ('path', 770), ('jump', 768), ('cart', 767), ('arms', 767), ('outdoors', 766), ('open', 761), ('stick', 757), ('book', 756), ('body', 751), ('track', 751), ('clothes', 749), ('vest', 745), ('others', 745), ('umbrella', 736), ('river', 735), ('bus', 732), ('piece', 723), ('outfit', 711), ('swing', 710), ('colored', 708), ('tank', 701), ('shopping', 696), ('night', 690), ('worker', 683), ('trick', 679), ('above', 678), ('painting', 677), ('enjoying', 677), ('uniforms', 675), ('event', 673), ('snowy', 670), ('stone', 664), ('hanging', 662), ('guys', 658), ('drinking', 656), ('ready', 654), ('metal', 652), ('full', 648), ('paper', 648), ('hard', 645), ('music', 645), ('toddler', 645), ('run', 645), ('sleeping', 641), ('adults', 632), ('house', 627), ('takes', 627), ('away', 626), ('onto', 624), ('shoes', 621), ('right', 618), ('arm', 617), ('like', 615), ('backpack', 613), ('going', 612), ('gathered', 612), ('shop', 611), ('phone', 608), ('rocks', 608), ('bridge', 607), ('pole', 604), ('wave', 604), ('both', 602), ('kid', 601), ('smiles', 601), ('after', 599), ('family', 599), ('dance', 598), ('set', 596), ('photo', 594), ('rope', 593), ('american', 593), ('board', 592), ('leaning', 591), ('hockey', 591), ('steps', 590), ('flowers', 588), ('catch', 585), ('crowded', 584), ('what', 584), ('subway', 582), ('pose', 581), ('lot', 577), ('left', 573), ('preparing', 566), ('gear', 566), ('cowboy', 564), ('skirt', 560), ('have', 560), ('shirtless', 557), ('flag', 555), ('sunny', 553), ('african', 553), ('bar', 553), ('which', 552), ('racing', 552), ('costume', 551), ('fishing', 549), ('between', 545), ('fire', 545), ('fountain', 545), ('chairs', 527), ('laughing', 523), ('machine', 521), ('number', 521), ('corner', 517), ('public', 516), ('setting', 513), ('instruments', 511), ('drink', 509), ('volleyball', 509), ('glass', 508), ('plaid', 506), ('stairs', 503), ('wood', 503), ('frisbee', 503), ('appears', 501), ('bags', 500), ('adult', 496), ('tall', 495), ('plastic', 495), ('couch', 494), ('selling', 491), ('concrete', 489), ('police', 489), ('beautiful', 484), ('seated', 483), ('sweatshirt', 481), ('midair', 474), ('equipment', 471), ('forest', 471), ('ramp', 471), ('graffiti', 471), ('cooking', 467), ('computer', 466), ('scarf', 465), ('does', 464), ('woods', 463), ('slide', 463), ('putting', 462), ('beard', 460), ('object', 459), ('edge', 457), ('toward', 456), ('skateboarder', 456), ('pushing', 455), ('view', 454), ('2', 451), ('mountains', 451), ('take', 448), ('sky', 447), ('ladies', 447), ('boots', 447), ('bed', 446), ('nearby', 445), ('distance', 444), ('pictures', 442), ('throwing', 442), ('short', 434), ('where', 433), ('poses', 433), ('rider', 433), ('get', 432), ('bikes', 431), ('just', 431), ('buildings', 429), ('jersey', 429), ('audience', 425), ('cigarette', 425), ('performs', 425), ('playground', 424), ('crossing', 423), ('door', 423), ('sun', 422), ('winter', 422), ('fish', 419), ('pulling', 419), ('eyes', 415), ('vehicle', 412), ('lawn', 411), ('smoking', 410), ('statue', 409), ('painted', 408), ('parade', 408), ('instrument', 407), ('leaves', 407), ('trail', 406), ('party', 404), ('driving', 402), ('rocky', 402), ('horses', 401), ('station', 400), ('cleaning', 399), ('friends', 398), ('works', 398), ('filled', 396), ('six', 395), ('lying', 395), ('yard', 394), ('giving', 392), ('cars', 392), ('few', 392), ('school', 391), ('safety', 389), ('gentleman', 389), ('cutting', 389), ('beer', 388), ('concert', 382), ('art', 380), ('cream', 380), ('apron', 380), ('no', 378), ('mother', 375), ('gloves', 374), ('net', 372), ('smile', 372), ('shore', 371), ('carries', 371), ('structure', 370), ('showing', 365), ('martial', 365), ('blondhair', 365), ('middleaged', 364), ('roof', 364), ('hit', 363), ('bottle', 362), ('snowboarder', 361), ('hold', 360), ('reads', 360), ('fruit', 360), ('perform', 359), ('jackets', 359), ('wet', 359), ('court', 358), ('shoulder', 356), ('rodeo', 356), ('drums', 355), ('cup', 354), ('suits', 353), ('newspaper', 353), ('surfer', 352), ('drinks', 351), ('costumes', 350), ('box', 349), ('cross', 348), ('vests', 347), ('parked', 347), ('various', 346), ('bowling', 346), ('goggles', 345), ('facing', 344), ('dock', 343), ('display', 343), ('biker', 343), ('pointing', 343), ('bunch', 342), ('onlookers', 342), ('practicing', 341), ('spectators', 340), ('dresses', 340), ('sports', 340), ('prepares', 339), ('home', 338), ('bathing', 338), ('teams', 338), ('students', 337), ('talks', 337), ('feet', 336), ('arts', 336), ('bull', 336), ('counter', 335), ('listening', 334), ('flying', 333), ('scene', 332), ('swinging', 331), ('flags', 330), ('railing', 329), ('make', 329), ('mask', 329), ('ladder', 328), ('different', 327), ('show', 327), ('bird', 327), ('bucket', 327), ('pile', 326), ('parking', 325), ('vendor', 325), ('makes', 325), ('wedding', 324), ('waves', 323), ('rain', 323), ('indian', 322), ('paint', 321), ('tent', 321), ('gold', 321), ('staring', 320), ('coffee', 320), ('gather', 319), ('before', 319), ('younger', 317), ('skateboarding', 316), ('speaking', 316), ('blanket', 315), ('3', 315), ('time', 314), ('grill', 314), ('stop', 313), ('cliff', 312), ('desk', 312), ('leather', 311), ('basket', 310), ('swim', 309), ('new', 308), ('tie', 307), ('leans', 307), ('empty', 307), ('kicking', 306), ('legs', 306), ('attire', 305), ('match', 305), ('foreground', 305), ('sort', 304), ('talk', 303), ('purse', 301), ('flower', 301), ('silver', 299), ('cement', 299), ('overlooking', 298), ('same', 297), ('items', 297), ('conversation', 297), ('leaps', 296), ('skier', 296), ('bearded', 296), ('climbs', 291), ('competition', 291), ('darkhaired', 288), ('life', 288), ('bald', 288), ('surfboard', 288), ('bowl', 286), ('writing', 286), ('animal', 285), ('outfits', 285), ('bicycles', 285), ('kneeling', 285), ('attempting', 285), ('bride', 284), ('meal', 283), ('musical', 283), ('place', 283), ('lined', 283), ('shot', 283), ('gets', 283), ('military', 283), ('business', 282), ('tables', 282), ('signs', 282), ('balloon', 280), ('rail', 279), ('wears', 279), ('can', 278), ('way', 276), ('electric', 276), ('alley', 275), ('tries', 275), ('bikini', 274), ('stroller', 273), ('chasing', 273), ('streets', 273), ('site', 272), ('lap', 271), ('vegetables', 269), ('chinese', 269), ('surfing', 267), ('sings', 266), ('gathering', 265), ('helmets', 265), ('says', 265), ('kissing', 265), ('fighting', 264), ('wait', 264), ('screen', 264), ('musicians', 261), ('platform', 261), ('sunset', 260), ('blowing', 260), ('leg', 260), ('faces', 259), ('lit', 259), ('christmas', 256), ('among', 255), ('cake', 254), ('traffic', 254), ('gym', 254), ('alone', 253), ('uses', 253), ('balloons', 253), ('brunette', 253), ('classroom', 253), ('coming', 252), ('resting', 252), ('ski', 252), ('trunks', 252), ('hot', 252), ('artist', 251), ('ledge', 251), ('base', 251), ('bubbles', 251), ('violin', 251), ('class', 250), ('walkway', 250), ('scooter', 250), ('sandy', 250), ('huge', 250), ('diving', 250), ('kick', 249), ('males', 248), ('throw', 248), ('garden', 247), ('hiking', 247), ('father', 247), ('wooded', 247), ('competing', 247), ('teenage', 246), ('course', 246), ('shows', 245), ('marathon', 245), ('swings', 245), ('laptop', 245), ('cafe', 244), ('waving', 242), ('helping', 241), ('break', 240), ('meat', 240), ('officer', 239), ('skiing', 239), ('close', 239), ('go', 238), ('urban', 238), ('passing', 238), ('opposing', 238), ('headphones', 237), ('foot', 236), ('pass', 236), ('plate', 236), ('lights', 236), ('town', 236), ('collar', 235), ('son', 233), ('fun', 233), ('sliding', 233), ('sandals', 232), ('wheel', 232), ('traditional', 231), ('held', 231), ('karate', 231), ('leaping', 230), ('country', 230), ('made', 229), ('stadium', 229), ('goal', 228), ('cat', 227), ('mirror', 227), ('do', 226), ('block', 226), ('skating', 225), ('performance', 224), ('waits', 224), ('church', 223), ('doorway', 223), ('clear', 222), ('seen', 222), ('photographer', 222), ('happy', 222), ('clown', 222), ('drum', 222), ('members', 221), ('tracks', 221), ('golf', 220), ('shoulders', 219), ('shallow', 219), ('hole', 218), ('toys', 218), ('fixing', 216), ('turn', 216), ('office', 216), ('shovel', 216), ('ring', 216), ('coats', 216), ('type', 215), ('dirty', 215), ('balls', 215), ('upside', 215), ('video', 214), ('brightly', 214), ('digging', 214), ('these', 213), ('square', 213), ('pier', 212), ('sticks', 211), ('dancers', 210), ('hugging', 210), ('attached', 210), ('circle', 209), ('below', 209), ('leash', 208), ('tattoo', 208), ('umbrellas', 208), ('multicolored', 207), ('runner', 207), ('sculpture', 206), ('stream', 205), ('throws', 205), ('sled', 205), ('makeup', 205), ('runners', 205), ('third', 205), ('enjoy', 204), ('giant', 204), ('beige', 204), ('photograph', 204), ('grocery', 204), ('asleep', 204), ('performer', 204), ('accordion', 204), ('moving', 203), ('mud', 203), ('desert', 203), ('trampoline', 203), ('crying', 202), ('barefoot', 202), ('cyclist', 202), ('reaching', 201), ('lab', 201), ('straw', 201), ('microscope', 201), ('row', 200), ('nose', 200), ('pond', 200), ('catching', 200), ('eat', 200), ('bat', 199), ('seat', 199), ('climb', 199), ('not', 198), ('relaxing', 198), ('tire', 198), ('lays', 197), ('himself', 197), ('produce', 197), ('washing', 197), ('telescope', 196), ('booth', 196), ('dinner', 196), ('how', 196), ('windows', 195), ('singer', 195), ('jogging', 195), ('tricks', 195), ('hoodie', 195), ('gun', 194), ('skate', 194), ('oriental', 194), ('deck', 193), ('individuals', 193), ('sweeping', 192), ('musician', 192), ('neck', 192), ('redhair', 191), ('well', 191), ('fight', 191), ('books', 191), ('underneath', 191), ('attempts', 191), ('canoe', 190), ('catches', 190), ('atop', 189), ('matching', 189), ('flip', 189), ('heads', 188), ('closed', 187), ('pedestrians', 187), ('golden', 187), ('bicyclist', 187), ('friend', 187), ('falling', 186), ('officers', 186), ('stuffed', 185), ('picnic', 185), ('center', 185), ('festival', 185), ('pulled', 185), ('teeth', 185), ('heavy', 184), ('plants', 184), ('fallen', 183), ('pushes', 183), ('deep', 183), ('device', 183), ('end', 182), ('blondhaired', 182), ('kind', 182), ('drawing', 182), ('chef', 182), ('fair', 181), ('van', 181), ('splashing', 181), ('khaki', 181), ('decorated', 181), ('muddy', 181), ('goes', 180), ('see', 179), ('including', 179), ('project', 179), ('marching', 179), ('also', 178), ('lone', 178), ('pair', 178), ('cane', 178), ('eats', 176), ('roller', 176), ('dances', 176), ('covering', 175), ('boats', 175), ('taken', 175), ('cloth', 175), ('racket', 175), ('crosswalk', 174), ('lots', 174), ('wetsuit', 174), ('whilst', 173), ('cut', 173), ('backyard', 172), ('jean', 172), ('indoor', 172), ('here', 172), ('obstacle', 172), ('carnival', 172), ('females', 171), ('wear', 171), ('tongue', 171), ('camouflage', 171), ('blouse', 170), ('daughter', 170), ('but', 170), ('wrapped', 170), ('speaks', 170), ('points', 170), ('cold', 169), ('seven', 169), ('hooded', 168), ('teenagers', 168), ('cheerleaders', 168), ('airplane', 167), ('kicks', 167), ('tunnel', 167), ('flies', 167), ('checking', 167), ('stunt', 167), ('pouring', 166), ('opening', 166), ('picking', 166), ('denim', 166), ('part', 165), ('local', 165), ('gives', 165), ('railroad', 165), ('curb', 165), ('robe', 165), ('mural', 165), ('rugby', 164), ('help', 164), ('nice', 163), ('bottom', 163), ('wide', 163), ('pavement', 162), ('balcony', 162), ('multiple', 162), ('low', 162), ('professional', 162), ('sea', 162), ('trash', 162), ('groom', 161), ('kayak', 161), ('hitting', 161), ('sleeps', 161), ('motorcycles', 161), ('fans', 161), ('passes', 161), ('gymnast', 160), ('hose', 160), ('infant', 160), ('bandanna', 160), ('rolling', 160), ('colors', 160), ('guitars', 160), ('hoop', 160), ('mat', 159), ('climber', 159), ('appear', 159), ('paved', 158), ('log', 158), ('surface', 158), ('move', 158), ('slides', 158), ('polo', 158), ('only', 157), ('navy', 157), ('pot', 157), ('protective', 157), ('drives', 156), ('touching', 156)]\n"
     ]
    }
   ],
   "source": [
    "# forming a dictionary for the model\n",
    "from collections import Counter\n",
    "\n",
    "words = Counter()\n",
    "for sent in data['comment'].values:\n",
    "    for word in sent.split():\n",
    "        words[word] +=1\n"
   ]
  },
  {
   "cell_type": "code",
   "execution_count": 26,
   "metadata": {},
   "outputs": [
    {
     "name": "stdout",
     "output_type": "stream",
     "text": [
      "20007\n"
     ]
    }
   ],
   "source": [
    "print(len(words))"
   ]
  },
  {
   "cell_type": "code",
   "execution_count": 31,
   "metadata": {},
   "outputs": [],
   "source": [
    "MAX_DICTIONARY_LENGTH = 15000\n",
    "most_common = words.most_common(MAX_DICTIONARY_LENGTH)\n",
    "# is the threshold needed?\n",
    "dictionary = pd.DataFrame(\n",
    "    {'word': [i[0] for i in most_common if i[1] >= 10], 'count': [i[1] for i in most_common if i[1] >= 10]})"
   ]
  },
  {
   "cell_type": "code",
   "execution_count": 32,
   "metadata": {},
   "outputs": [
    {
     "data": {
      "text/plain": [
       "(5461, 2)"
      ]
     },
     "execution_count": 32,
     "metadata": {},
     "output_type": "execute_result"
    }
   ],
   "source": [
    "dictionary.shape"
   ]
  },
  {
   "cell_type": "code",
   "execution_count": null,
   "metadata": {},
   "outputs": [],
   "source": [
    "class my_lstm(nn.Module):\n",
    "    # gotta get rid of this later, the experiment was fine enough\n",
    "    def __init__(self, input_size, hidden_size,  *args, **kwargs) -> None:\n",
    "        super().__init__(*args, **kwargs)\n",
    "        self.hidden = torch.rand(hidden_size)\n",
    "        self.cell_state = torch.rand(hidden_size)\n",
    "\n",
    "        self.forget_gate = nn.Sequential(\n",
    "            nn.Linear(hidden_size+input_size, hidden_size),\n",
    "            nn.Sigmoid()\n",
    "        )\n",
    "        self.input_gate = nn.Sequential(\n",
    "            nn.Linear(hidden_size+input_size, hidden_size),\n",
    "            nn.Sigmoid()\n",
    "        )\n",
    "        self.cell_gate = nn.Sequential(\n",
    "            nn.Linear(hidden_size+input_size, hidden_size),\n",
    "            nn.Tanh()\n",
    "        )\n",
    "        self.output_gate = nn.Sequential(\n",
    "            nn.Linear(hidden_size+input_size, hidden_size),\n",
    "            nn.Sigmoid()\n",
    "        )\n",
    "\n",
    "    def forward(self, x):\n",
    "        hx = torch.concat((x, self.hidden))\n",
    "        self.cell_state *= self.forget_gate(hx)\n",
    "        self.cell_state += self.cell_gate(hx)*self.input_gate(hx)\n",
    "        out = torch.tanh(self.cell_state) * self.output_gate(hx)\n",
    "        self.hidden = out\n",
    "        return out"
   ]
  },
  {
   "cell_type": "code",
   "execution_count": 1,
   "metadata": {},
   "outputs": [
    {
     "name": "stderr",
     "output_type": "stream",
     "text": [
      "2023-10-03 04:07:51.284682: E tensorflow/compiler/xla/stream_executor/cuda/cuda_dnn.cc:9342] Unable to register cuDNN factory: Attempting to register factory for plugin cuDNN when one has already been registered\n",
      "2023-10-03 04:07:51.284724: E tensorflow/compiler/xla/stream_executor/cuda/cuda_fft.cc:609] Unable to register cuFFT factory: Attempting to register factory for plugin cuFFT when one has already been registered\n",
      "2023-10-03 04:07:51.284748: E tensorflow/compiler/xla/stream_executor/cuda/cuda_blas.cc:1518] Unable to register cuBLAS factory: Attempting to register factory for plugin cuBLAS when one has already been registered\n",
      "2023-10-03 04:07:51.291785: I tensorflow/core/platform/cpu_feature_guard.cc:182] This TensorFlow binary is optimized to use available CPU instructions in performance-critical operations.\n",
      "To enable the following instructions: AVX2 FMA, in other operations, rebuild TensorFlow with the appropriate compiler flags.\n",
      "2023-10-03 04:07:52.419590: W tensorflow/compiler/tf2tensorrt/utils/py_utils.cc:38] TF-TRT Warning: Could not find TensorRT\n"
     ]
    }
   ],
   "source": [
    "import tensorflow as tf"
   ]
  },
  {
   "cell_type": "code",
   "execution_count": 2,
   "metadata": {},
   "outputs": [
    {
     "name": "stderr",
     "output_type": "stream",
     "text": [
      "2023-10-03 04:10:21.473967: I tensorflow/compiler/xla/stream_executor/cuda/cuda_gpu_executor.cc:894] successful NUMA node read from SysFS had negative value (-1), but there must be at least one NUMA node, so returning NUMA node zero. See more at https://github.com/torvalds/linux/blob/v6.0/Documentation/ABI/testing/sysfs-bus-pci#L344-L355\n",
      "2023-10-03 04:10:21.484535: I tensorflow/compiler/xla/stream_executor/cuda/cuda_gpu_executor.cc:894] successful NUMA node read from SysFS had negative value (-1), but there must be at least one NUMA node, so returning NUMA node zero. See more at https://github.com/torvalds/linux/blob/v6.0/Documentation/ABI/testing/sysfs-bus-pci#L344-L355\n",
      "2023-10-03 04:10:21.484787: I tensorflow/compiler/xla/stream_executor/cuda/cuda_gpu_executor.cc:894] successful NUMA node read from SysFS had negative value (-1), but there must be at least one NUMA node, so returning NUMA node zero. See more at https://github.com/torvalds/linux/blob/v6.0/Documentation/ABI/testing/sysfs-bus-pci#L344-L355\n"
     ]
    },
    {
     "data": {
      "text/plain": [
       "[PhysicalDevice(name='/physical_device:GPU:0', device_type='GPU')]"
      ]
     },
     "execution_count": 2,
     "metadata": {},
     "output_type": "execute_result"
    }
   ],
   "source": [
    "tf.config.list_physical_devices('GPU')"
   ]
  }
 ],
 "metadata": {
  "kernelspec": {
   "display_name": "Python 3",
   "language": "python",
   "name": "python3"
  },
  "language_info": {
   "codemirror_mode": {
    "name": "ipython",
    "version": 3
   },
   "file_extension": ".py",
   "mimetype": "text/x-python",
   "name": "python",
   "nbconvert_exporter": "python",
   "pygments_lexer": "ipython3",
   "version": "3.11.5"
  },
  "orig_nbformat": 4
 },
 "nbformat": 4,
 "nbformat_minor": 2
}
